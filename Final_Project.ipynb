{
 "cells": [
  {
   "cell_type": "markdown",
   "metadata": {},
   "source": [
    "# Final Project: Self Harm and Substance Abuse Deaths Worldwide \n",
    "\n",
    "(Last update: 13/12/2023)\n",
    "\n",
    "Group 1: \n",
    "- Thái Mai Khánh Vy - 20120239\n",
    "- Châu Kiệt -\n",
    "- Hoàng Tuấn Anh\n",
    "\n",
    "## In this lab, we're going to be: \n",
    "- Find a public data ( https://www.kaggle.com/datasets/thomaseltonau/self-harm-and-substance-abuse-deaths-worldwide )\n",
    "- Explore data \n",
    "- Identify meaningful questions which can be answered with this data\n",
    "- Preprocess and analyze data to answer each question\n"
   ]
  },
  {
   "cell_type": "markdown",
   "metadata": {},
   "source": [
    "## 1. Import libraries"
   ]
  },
  {
   "cell_type": "code",
   "execution_count": 2,
   "metadata": {},
   "outputs": [],
   "source": [
    "import pandas as pd\n",
    "import matplotlib.pyplot as plt\n",
    "import numpy as np\n",
    "import plotly.express as px"
   ]
  },
  {
   "cell_type": "markdown",
   "metadata": {},
   "source": [
    "## 2. Exploring Data"
   ]
  },
  {
   "cell_type": "markdown",
   "metadata": {},
   "source": [
    "### 2.1 Collecting Data\n",
    "\n",
    "This data set contains information pertaining to the 'intentional self-harm' and 'psychoactive substance use' related deaths for each country from 2017 to 2021 by sex. Additionally, population data for each country and sex is provided, as well as each countries ISO-3 code.\n",
    "\n",
    "The authors collected data from multiple sources to compile the dataset on intentional self-harm and psychoactive substance use-related deaths for each country from 2017 to 2021 by sex. Here is a summary of the data collection process: \n",
    "- World Health Organisation Mortality Database (2023)\n",
    "- Kaggle Dataset (2017)\n",
    "- Our World in Data\n",
    "- Data Cleaning\n",
    "\n",
    "After extracting the dataset discovered at the above link, we will have a file named \"world_wide_self_harm_and_substance_deaths.csv.\"\n",
    "\n",
    "We will proceed to read the data into a DataFrame named \"survey_df.\""
   ]
  },
  {
   "cell_type": "code",
   "execution_count": 9,
   "metadata": {},
   "outputs": [
    {
     "data": {
      "text/html": [
       "<div>\n",
       "<style scoped>\n",
       "    .dataframe tbody tr th:only-of-type {\n",
       "        vertical-align: middle;\n",
       "    }\n",
       "\n",
       "    .dataframe tbody tr th {\n",
       "        vertical-align: top;\n",
       "    }\n",
       "\n",
       "    .dataframe thead th {\n",
       "        text-align: right;\n",
       "    }\n",
       "</style>\n",
       "<table border=\"1\" class=\"dataframe\">\n",
       "  <thead>\n",
       "    <tr style=\"text-align: right;\">\n",
       "      <th></th>\n",
       "      <th>Year</th>\n",
       "      <th>Cause</th>\n",
       "      <th>Age_Range</th>\n",
       "      <th>ISO_Code</th>\n",
       "      <th>Sex</th>\n",
       "      <th>Deaths</th>\n",
       "      <th>Age_and_Sex_Population</th>\n",
       "      <th>Country</th>\n",
       "    </tr>\n",
       "  </thead>\n",
       "  <tbody>\n",
       "    <tr>\n",
       "      <th>0</th>\n",
       "      <td>2017</td>\n",
       "      <td>Intentional self-harm</td>\n",
       "      <td>0</td>\n",
       "      <td>GBR</td>\n",
       "      <td>Female</td>\n",
       "      <td>0</td>\n",
       "      <td>743552.0</td>\n",
       "      <td>United Kingdom</td>\n",
       "    </tr>\n",
       "    <tr>\n",
       "      <th>1</th>\n",
       "      <td>2017</td>\n",
       "      <td>Intentional self-harm</td>\n",
       "      <td>0</td>\n",
       "      <td>GBR</td>\n",
       "      <td>Male</td>\n",
       "      <td>0</td>\n",
       "      <td>782850.0</td>\n",
       "      <td>United Kingdom</td>\n",
       "    </tr>\n",
       "    <tr>\n",
       "      <th>2</th>\n",
       "      <td>2017</td>\n",
       "      <td>Intentional self-harm</td>\n",
       "      <td>1</td>\n",
       "      <td>GBR</td>\n",
       "      <td>Female</td>\n",
       "      <td>0</td>\n",
       "      <td>768444.0</td>\n",
       "      <td>United Kingdom</td>\n",
       "    </tr>\n",
       "    <tr>\n",
       "      <th>3</th>\n",
       "      <td>2017</td>\n",
       "      <td>Intentional self-harm</td>\n",
       "      <td>1</td>\n",
       "      <td>GBR</td>\n",
       "      <td>Male</td>\n",
       "      <td>0</td>\n",
       "      <td>810126.0</td>\n",
       "      <td>United Kingdom</td>\n",
       "    </tr>\n",
       "    <tr>\n",
       "      <th>4</th>\n",
       "      <td>2017</td>\n",
       "      <td>Intentional self-harm</td>\n",
       "      <td>10-14</td>\n",
       "      <td>GBR</td>\n",
       "      <td>Female</td>\n",
       "      <td>16</td>\n",
       "      <td>3640314.0</td>\n",
       "      <td>United Kingdom</td>\n",
       "    </tr>\n",
       "  </tbody>\n",
       "</table>\n",
       "</div>"
      ],
      "text/plain": [
       "   Year                  Cause Age_Range ISO_Code     Sex  Deaths  \\\n",
       "0  2017  Intentional self-harm         0      GBR  Female       0   \n",
       "1  2017  Intentional self-harm         0      GBR    Male       0   \n",
       "2  2017  Intentional self-harm         1      GBR  Female       0   \n",
       "3  2017  Intentional self-harm         1      GBR    Male       0   \n",
       "4  2017  Intentional self-harm     10-14      GBR  Female      16   \n",
       "\n",
       "   Age_and_Sex_Population         Country  \n",
       "0                743552.0  United Kingdom  \n",
       "1                782850.0  United Kingdom  \n",
       "2                768444.0  United Kingdom  \n",
       "3                810126.0  United Kingdom  \n",
       "4               3640314.0  United Kingdom  "
      ]
     },
     "execution_count": 9,
     "metadata": {},
     "output_type": "execute_result"
    }
   ],
   "source": [
    "survey_df = pd.read_csv(\"data/world_wide_self_harm_and_substance_deaths.csv\")\n",
    "survey_df.head()"
   ]
  },
  {
   "cell_type": "markdown",
   "metadata": {},
   "source": [
    "### 2.2 Data exploring & Data preprocessing\n",
    "\n",
    "Calculate the number of rows and columns for this dataset, these two values are stored in two variables `nrows` and `ncols` respectively."
   ]
  },
  {
   "cell_type": "code",
   "execution_count": null,
   "metadata": {},
   "outputs": [],
   "source": [
    "nrows, ncols = survey_df.shape"
   ]
  },
  {
   "cell_type": "markdown",
   "metadata": {},
   "source": [
    "#### Row\n",
    "\n",
    "The meaning of each row:\n",
    "Each row in the data set shows Self harm and substance abuse related deaths by country, year (2017-21), and sex"
   ]
  },
  {
   "cell_type": "markdown",
   "metadata": {},
   "source": [
    "##### Does the data have duplicate rows?"
   ]
  },
  {
   "cell_type": "markdown",
   "metadata": {},
   "source": [
    "You will test this case and save the results to the `have_duplicated_rows` variable. This variable will have the value True if the data has duplicate lines and will have the value False otherwise."
   ]
  },
  {
   "cell_type": "code",
   "execution_count": 21,
   "metadata": {},
   "outputs": [
    {
     "data": {
      "text/plain": [
       "False"
      ]
     },
     "execution_count": 21,
     "metadata": {},
     "output_type": "execute_result"
    }
   ],
   "source": [
    "temp = np.array(survey_df.duplicated())\n",
    "\n",
    "##Check xem có tồn tại phần tử nào là True hay không, nếu không có bất kỳ một phần tử nào là true thì trả về False\n",
    "have_duplicated_rows = np.any(temp)\n",
    "have_duplicated_rows"
   ]
  },
  {
   "cell_type": "markdown",
   "metadata": {},
   "source": [
    "Great, so there are no duplicate rows. Next we will explore the columns."
   ]
  },
  {
   "cell_type": "markdown",
   "metadata": {},
   "source": [
    "#### Column"
   ]
  },
  {
   "cell_type": "markdown",
   "metadata": {},
   "source": [
    "##### The meaning of each column\n",
    "- Year: Represents the year of the data \n",
    "- Cause:  Describes the cause of death. In this dataset, it specifically focuses on \"Intentional self-harm\" and \"Mental and behavioural disorders due to psychoactive substance use\"\n",
    "- Age_Range: Specifies the age range for the reported data. For example, \"0\" might indicate an aggregate for all ages, while \"10-14\" and \"15-19\" and other represent specific age groups.\n",
    "- ISO_Code: Refers to the ISO code of the country where the data is reported. In the example, \"GBR\" is the ISO code for the United Kingdom.\n",
    "- Sex: Indicates the gender for which the data is reported. It could be \"Female\" or \"Male.\"\n",
    "- Deaths: Represents the number of deaths for the specified combination of year, cause, age range, country, and gender.\n",
    "- Age_and_Sex_Population: Denotes the population for the specified age range and gender in the given country for that year.\n",
    "- Country: Specifies the name of the country for which the data is reported."
   ]
  },
  {
   "cell_type": "markdown",
   "metadata": {},
   "source": [
    "\n",
    "##### We will list what these causes of death are. \n",
    "\n",
    "List all types of causes and save them in the variable `names_cause`.\n"
   ]
  },
  {
   "cell_type": "code",
   "execution_count": 22,
   "metadata": {},
   "outputs": [
    {
     "data": {
      "text/plain": [
       "0                                Intentional self-harm\n",
       "1    Mental and behavioural disorders due to psycho...\n",
       "dtype: object"
      ]
     },
     "execution_count": 22,
     "metadata": {},
     "output_type": "execute_result"
    }
   ],
   "source": [
    "names_cause = pd.Series(survey_df[\"Cause\"].unique())\n",
    "names_cause"
   ]
  },
  {
   "cell_type": "markdown",
   "metadata": {},
   "source": [
    "##### What is the current data type of each column? Are there columns having inappropriate data types?\n",
    "\n",
    "Get the data type of each column and save it to a series named `cols_dtype`"
   ]
  },
  {
   "cell_type": "code",
   "execution_count": 18,
   "metadata": {},
   "outputs": [
    {
     "data": {
      "text/plain": [
       "Year                        int64\n",
       "Cause                      object\n",
       "Age_Range                  object\n",
       "ISO_Code                   object\n",
       "Sex                        object\n",
       "Deaths                      int64\n",
       "Age_and_Sex_Population    float64\n",
       "Country                    object\n",
       "dtype: object"
      ]
     },
     "execution_count": 18,
     "metadata": {},
     "output_type": "execute_result"
    }
   ],
   "source": [
    "cols_name = list(survey_df.columns.values)\n",
    "cols_dtype = pd.Series(survey_df[cols_name].dtypes)\n",
    "cols_dtype"
   ]
  },
  {
   "cell_type": "markdown",
   "metadata": {},
   "source": [
    "##### Data Type Analysis\n",
    "\n",
    "We have a range of data types, from \"Year\" to various quantitative data types like death counts and population for the given age, country, and sex, which fall under the integer and numerical data types.\n",
    "\n",
    "We need to specifically investigate the data types of the \"Cause\" \"Age_Range\" \"ISO_Code\" \"Sex\" and \"Country\" columns.\n",
    "\n",
    "To delve deeper into the data types of these columns, we will write a function. Here, we will use the apply method to perform this analysis."
   ]
  },
  {
   "cell_type": "code",
   "execution_count": 31,
   "metadata": {},
   "outputs": [],
   "source": [
    "def open_object_dtype(s):\n",
    "    dtypes = set()\n",
    "    \n",
    "    # We will append each type of s[i] sequentially into the set\n",
    "    # It is certain that inside dtypes, there will be only one unique type, so this set will contain only one element\n",
    "\n",
    "    # We extract a series using apply with the type function on all s[i]\n",
    "    object_series = s.apply(type)\n",
    "    \n",
    "    object_series.apply(dtypes.add)\n",
    "    return dtypes\n",
    "\n",
    "type_of_cause = open_object_dtype(survey_df['Cause'])\n",
    "type_of_age_range = open_object_dtype(survey_df['Age_Range'])\n",
    "type_of_ISO_code = open_object_dtype(survey_df['ISO_Code'])\n",
    "type_of_age_sex = open_object_dtype(survey_df['Sex'])\n",
    "type_of_country = open_object_dtype(survey_df['Country'])"
   ]
  },
  {
   "cell_type": "markdown",
   "metadata": {},
   "source": [
    "##### Comment on Object Data Types\n",
    "\n",
    "So, we can see that the data types of the columns \"Cause\" \"Age_Range\" \"ISO_Code\" \"Sex\" and \"Country\" are strings. Therefore, in this dataset, we will not need to preprocess/normalize the data to perform the required tasks."
   ]
  },
  {
   "cell_type": "markdown",
   "metadata": {},
   "source": [
    "##### For each column with numeric datatype, how are the values distributed?\n",
    "\n",
    "First, we need to see how many missing values the numeric columns have. We need to check these parameters to determine the next course of action, whether we should examine the percentage of missing data and subsequently conduct tests for data distribution. The results will be stored in the variable `missing_values`"
   ]
  },
  {
   "cell_type": "code",
   "execution_count": 58,
   "metadata": {},
   "outputs": [],
   "source": [
    "numeric_columns = survey_df.select_dtypes(include=['number']).columns\n",
    "missing_values = survey_df[numeric_columns].isnull().sum()\n",
    "percentage_missing = (missing_values / len(survey_df)) * 100\n",
    "summary_statistics = survey_df[numeric_columns].describe().transpose()"
   ]
  },
  {
   "cell_type": "code",
   "execution_count": 59,
   "metadata": {},
   "outputs": [
    {
     "name": "stdout",
     "output_type": "stream",
     "text": [
      "Missing Values:\n"
     ]
    },
    {
     "data": {
      "text/plain": [
       "Year                          0\n",
       "Deaths                        0\n",
       "Age_and_Sex_Population    19644\n",
       "dtype: int64"
      ]
     },
     "execution_count": 59,
     "metadata": {},
     "output_type": "execute_result"
    }
   ],
   "source": [
    "print(\"Missing Values:\")\n",
    "missing_values.head()"
   ]
  },
  {
   "cell_type": "code",
   "execution_count": 60,
   "metadata": {},
   "outputs": [
    {
     "name": "stdout",
     "output_type": "stream",
     "text": [
      "Percentage of Missing Values:\n"
     ]
    },
    {
     "data": {
      "text/plain": [
       "Year                       0.000000\n",
       "Deaths                     0.000000\n",
       "Age_and_Sex_Population    40.393987\n",
       "dtype: float64"
      ]
     },
     "execution_count": 60,
     "metadata": {},
     "output_type": "execute_result"
    }
   ],
   "source": [
    "print(\"Percentage of Missing Values:\")\n",
    "percentage_missing.head()"
   ]
  },
  {
   "cell_type": "code",
   "execution_count": 61,
   "metadata": {},
   "outputs": [
    {
     "name": "stdout",
     "output_type": "stream",
     "text": [
      "Minimum and Maximum Values:\n"
     ]
    },
    {
     "data": {
      "text/html": [
       "<div>\n",
       "<style scoped>\n",
       "    .dataframe tbody tr th:only-of-type {\n",
       "        vertical-align: middle;\n",
       "    }\n",
       "\n",
       "    .dataframe tbody tr th {\n",
       "        vertical-align: top;\n",
       "    }\n",
       "\n",
       "    .dataframe thead th {\n",
       "        text-align: right;\n",
       "    }\n",
       "</style>\n",
       "<table border=\"1\" class=\"dataframe\">\n",
       "  <thead>\n",
       "    <tr style=\"text-align: right;\">\n",
       "      <th></th>\n",
       "      <th>min</th>\n",
       "      <th>max</th>\n",
       "    </tr>\n",
       "  </thead>\n",
       "  <tbody>\n",
       "    <tr>\n",
       "      <th>Year</th>\n",
       "      <td>2017.0</td>\n",
       "      <td>2021.0</td>\n",
       "    </tr>\n",
       "    <tr>\n",
       "      <th>Deaths</th>\n",
       "      <td>0.0</td>\n",
       "      <td>48312.0</td>\n",
       "    </tr>\n",
       "    <tr>\n",
       "      <th>Age_and_Sex_Population</th>\n",
       "      <td>0.0</td>\n",
       "      <td>335942016.0</td>\n",
       "    </tr>\n",
       "  </tbody>\n",
       "</table>\n",
       "</div>"
      ],
      "text/plain": [
       "                           min          max\n",
       "Year                    2017.0       2021.0\n",
       "Deaths                     0.0      48312.0\n",
       "Age_and_Sex_Population     0.0  335942016.0"
      ]
     },
     "execution_count": 61,
     "metadata": {},
     "output_type": "execute_result"
    }
   ],
   "source": [
    "print(\"Minimum and Maximum Values:\")\n",
    "summary_statistics[['min', 'max']].head()"
   ]
  },
  {
   "cell_type": "markdown",
   "metadata": {},
   "source": [
    "##### For each column with categorical datatype, how are the values distributed?\n",
    "\n",
    "First, we need to see how many missing values the categorical columns have. We need to check these parameters to determine the next course of action, whether we should examine the percentage of missing data and subsequently conduct tests for data distribution. The results will be stored in the variable `missing_values`"
   ]
  },
  {
   "cell_type": "code",
   "execution_count": 49,
   "metadata": {},
   "outputs": [
    {
     "name": "stdout",
     "output_type": "stream",
     "text": [
      "Missing Values:\n",
      "Cause        0\n",
      "Age_Range    0\n",
      "ISO_Code     0\n",
      "Sex          0\n",
      "Country      0\n",
      "dtype: int64\n",
      "\n",
      "Percentage of Missing Values:\n",
      "Cause        0.0\n",
      "Age_Range    0.0\n",
      "ISO_Code     0.0\n",
      "Sex          0.0\n",
      "Country      0.0\n",
      "dtype: float64\n"
     ]
    }
   ],
   "source": [
    "categorical_columns = survey_df.drop(numeric_columns, axis=1).columns\n",
    "missing_values = survey_df[categorical_columns].isnull().sum()\n",
    "percentage_missing = (missing_values / len(survey_df)) * 100\n",
    "\n",
    "print(\"Missing Values:\")\n",
    "print(missing_values)\n",
    "print(\"\\nPercentage of Missing Values:\")\n",
    "print(percentage_missing)"
   ]
  },
  {
   "cell_type": "markdown",
   "metadata": {},
   "source": [
    "Great, so all categorical columns don't have any missing values."
   ]
  },
  {
   "cell_type": "markdown",
   "metadata": {},
   "source": [
    "##### How many different values? Show a few"
   ]
  },
  {
   "cell_type": "code",
   "execution_count": 62,
   "metadata": {},
   "outputs": [
    {
     "name": "stdout",
     "output_type": "stream",
     "text": [
      "Values Information:\n"
     ]
    },
    {
     "data": {
      "text/html": [
       "<div>\n",
       "<style scoped>\n",
       "    .dataframe tbody tr th:only-of-type {\n",
       "        vertical-align: middle;\n",
       "    }\n",
       "\n",
       "    .dataframe tbody tr th {\n",
       "        vertical-align: top;\n",
       "    }\n",
       "\n",
       "    .dataframe thead th {\n",
       "        text-align: right;\n",
       "    }\n",
       "</style>\n",
       "<table border=\"1\" class=\"dataframe\">\n",
       "  <thead>\n",
       "    <tr style=\"text-align: right;\">\n",
       "      <th></th>\n",
       "      <th>Column</th>\n",
       "      <th>Number of Unique Values</th>\n",
       "      <th>Sample Values</th>\n",
       "    </tr>\n",
       "  </thead>\n",
       "  <tbody>\n",
       "    <tr>\n",
       "      <th>0</th>\n",
       "      <td>Cause</td>\n",
       "      <td>2</td>\n",
       "      <td>[Intentional self-harm, Mental and behavioural...</td>\n",
       "    </tr>\n",
       "    <tr>\n",
       "      <th>1</th>\n",
       "      <td>Age_Range</td>\n",
       "      <td>36</td>\n",
       "      <td>[3, 65-69, 35-39, 4, 35-39]</td>\n",
       "    </tr>\n",
       "    <tr>\n",
       "      <th>2</th>\n",
       "      <td>ISO_Code</td>\n",
       "      <td>108</td>\n",
       "      <td>[URY, GRC, GTM, AUT, MKD]</td>\n",
       "    </tr>\n",
       "    <tr>\n",
       "      <th>3</th>\n",
       "      <td>Sex</td>\n",
       "      <td>4</td>\n",
       "      <td>[Male, Male, Male, All]</td>\n",
       "    </tr>\n",
       "    <tr>\n",
       "      <th>4</th>\n",
       "      <td>Country</td>\n",
       "      <td>109</td>\n",
       "      <td>[Paraguay, Luxembourg, Uzbekistan, Oman, Brazil]</td>\n",
       "    </tr>\n",
       "  </tbody>\n",
       "</table>\n",
       "</div>"
      ],
      "text/plain": [
       "      Column Number of Unique Values  \\\n",
       "0      Cause                       2   \n",
       "1  Age_Range                      36   \n",
       "2   ISO_Code                     108   \n",
       "3        Sex                       4   \n",
       "4    Country                     109   \n",
       "\n",
       "                                       Sample Values  \n",
       "0  [Intentional self-harm, Mental and behavioural...  \n",
       "1                        [3, 65-69, 35-39, 4, 35-39]  \n",
       "2                          [URY, GRC, GTM, AUT, MKD]  \n",
       "3                            [Male, Male, Male, All]  \n",
       "4   [Paraguay, Luxembourg, Uzbekistan, Oman, Brazil]  "
      ]
     },
     "execution_count": 62,
     "metadata": {},
     "output_type": "execute_result"
    }
   ],
   "source": [
    "unique_values_info = pd.DataFrame(columns=['Column', 'Number of Unique Values', 'Sample Values'])\n",
    "\n",
    "for column in categorical_columns:\n",
    "    num_unique_values = survey_df[column].nunique()\n",
    "    sample_values = survey_df[column].sample(min(5, num_unique_values)).tolist()\n",
    "    unique_values_info = pd.concat([unique_values_info, pd.DataFrame({\n",
    "        'Column': [column],\n",
    "        'Number of Unique Values': [num_unique_values],\n",
    "        'Sample Values': [sample_values]\n",
    "    })], ignore_index=True)\n",
    "\n",
    "# Display the unique values information\n",
    "print(\"Values Information:\")\n",
    "unique_values_info.head()"
   ]
  },
  {
   "cell_type": "markdown",
   "metadata": {},
   "source": [
    "#### Data Preprocessing"
   ]
  },
  {
   "cell_type": "markdown",
   "metadata": {},
   "source": [
    "##### In the dataset, how many countries have been surveyed? Is Vietnam included in this dataset?\n",
    "\n",
    "We will check the dataset to determine the number of countries and whether Vietnam is present. The results will be stored in two variables: num_countries (an Integer) and isContainsVietnam (a bool)."
   ]
  },
  {
   "cell_type": "code",
   "execution_count": 63,
   "metadata": {},
   "outputs": [
    {
     "name": "stdout",
     "output_type": "stream",
     "text": [
      "109 False\n"
     ]
    }
   ],
   "source": [
    "countries_series = survey_df['Country']\n",
    "countries_unique = np.unique(countries_series)\n",
    "num_countries = len(np.unique(countries_unique))\n",
    "\n",
    "isContainsVietnam = len(countries_unique[countries_unique == 'Vietnam']) != 0\n",
    "\n",
    "print(num_countries, isContainsVietnam)\n"
   ]
  },
  {
   "cell_type": "markdown",
   "metadata": {},
   "source": [
    "So, the dataset here contains 109 countries, and there is no survey data for the country of Vietnam."
   ]
  },
  {
   "cell_type": "markdown",
   "metadata": {},
   "source": [
    "##### The years surveyed in the dataset span from which year to which year?\n",
    "\n",
    "List the years covered in the dataset, and save the results in three variables: years, min_years, and max_years.\n",
    "\n"
   ]
  },
  {
   "cell_type": "code",
   "execution_count": 64,
   "metadata": {},
   "outputs": [
    {
     "name": "stdout",
     "output_type": "stream",
     "text": [
      "[2017 2018 2019 2020 2021] 2017 2021\n"
     ]
    }
   ],
   "source": [
    "years = np.unique(survey_df['Year'])\n",
    "\n",
    "min_years = min(years)\n",
    "max_years = max(years)\n",
    "\n",
    "print(years,min_years,max_years)"
   ]
  },
  {
   "cell_type": "markdown",
   "metadata": {},
   "source": [
    "Hmmm... Vậy chúng ta có thể thấy rằng, ở đây tất cả các nước đều có đầy đủ dữ liệu từ năm 1990 tới năm 2019"
   ]
  }
 ],
 "metadata": {
  "kernelspec": {
   "display_name": "Python 3",
   "language": "python",
   "name": "python3"
  },
  "language_info": {
   "codemirror_mode": {
    "name": "ipython",
    "version": 3
   },
   "file_extension": ".py",
   "mimetype": "text/x-python",
   "name": "python",
   "nbconvert_exporter": "python",
   "pygments_lexer": "ipython3",
   "version": "3.10.0"
  }
 },
 "nbformat": 4,
 "nbformat_minor": 2
}
